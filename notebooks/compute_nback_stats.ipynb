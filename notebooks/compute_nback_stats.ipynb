{
 "cells": [
  {
   "cell_type": "code",
   "execution_count": 2,
   "id": "4c7f250a-3e6b-4d40-8969-2ace36cc4a17",
   "metadata": {},
   "outputs": [],
   "source": [
    "%load_ext autoreload\n",
    "%autoreload 2\n",
    "\n",
    "import pandas as pd\n",
    "import os\n",
    "import glob\n",
    "import seaborn as sns\n",
    " \n",
    "from nback_utils import read_nback_results, summarize_nback\n",
    "\n",
    "pd.options.display.max_rows = 100"
   ]
  },
  {
   "cell_type": "markdown",
   "id": "75a19c21-28b5-4982-b58e-21e5b207911a",
   "metadata": {
    "tags": []
   },
   "source": [
    "# Run today"
   ]
  },
  {
   "cell_type": "code",
   "execution_count": 3,
   "id": "26f69cb5-0485-444e-b557-9eabc4e3cb01",
   "metadata": {},
   "outputs": [
    {
     "name": "stderr",
     "output_type": "stream",
     "text": [
      "/Users/olgabotvinnik/opt/anaconda3/lib/python3.9/site-packages/pandas/util/_decorators.py:311: ParserWarning: Falling back to the 'python' engine because the 'c' engine does not support regex separators (separators > 1 char and different from '\\s+' are interpreted as regex); you can avoid this warning by specifying engine='python'.\n",
      "  return func(*args, **kwargs)\n"
     ]
    },
    {
     "data": {
      "text/html": [
       "<div>\n",
       "<style scoped>\n",
       "    .dataframe tbody tr th:only-of-type {\n",
       "        vertical-align: middle;\n",
       "    }\n",
       "\n",
       "    .dataframe tbody tr th {\n",
       "        vertical-align: top;\n",
       "    }\n",
       "\n",
       "    .dataframe thead th {\n",
       "        text-align: right;\n",
       "    }\n",
       "</style>\n",
       "<table border=\"1\" class=\"dataframe\">\n",
       "  <thead>\n",
       "    <tr style=\"text-align: right;\">\n",
       "      <th></th>\n",
       "      <th>run</th>\n",
       "      <th>trsummarize_nbackl</th>\n",
       "      <th>condition</th>\n",
       "      <th>correct</th>\n",
       "      <th>key_press</th>\n",
       "      <th>false_alarm</th>\n",
       "      <th>col7</th>\n",
       "      <th>milliseconds</th>\n",
       "      <th>col9</th>\n",
       "      <th>col10</th>\n",
       "      <th>col11</th>\n",
       "      <th>col12</th>\n",
       "    </tr>\n",
       "  </thead>\n",
       "  <tbody>\n",
       "    <tr>\n",
       "      <th>0</th>\n",
       "      <td>1</td>\n",
       "      <td>1</td>\n",
       "      <td>0</td>\n",
       "      <td>1</td>\n",
       "      <td>0</td>\n",
       "      <td>0</td>\n",
       "      <td>0</td>\n",
       "      <td>3000</td>\n",
       "      <td>1</td>\n",
       "      <td>15</td>\n",
       "      <td>15</td>\n",
       "      <td>0</td>\n",
       "    </tr>\n",
       "    <tr>\n",
       "      <th>1</th>\n",
       "      <td>1</td>\n",
       "      <td>2</td>\n",
       "      <td>0</td>\n",
       "      <td>1</td>\n",
       "      <td>0</td>\n",
       "      <td>0</td>\n",
       "      <td>0</td>\n",
       "      <td>3000</td>\n",
       "      <td>2</td>\n",
       "      <td>1</td>\n",
       "      <td>1</td>\n",
       "      <td>15</td>\n",
       "    </tr>\n",
       "    <tr>\n",
       "      <th>2</th>\n",
       "      <td>1</td>\n",
       "      <td>3</td>\n",
       "      <td>0</td>\n",
       "      <td>1</td>\n",
       "      <td>0</td>\n",
       "      <td>0</td>\n",
       "      <td>0</td>\n",
       "      <td>3000</td>\n",
       "      <td>2</td>\n",
       "      <td>8</td>\n",
       "      <td>8</td>\n",
       "      <td>1</td>\n",
       "    </tr>\n",
       "    <tr>\n",
       "      <th>3</th>\n",
       "      <td>1</td>\n",
       "      <td>4</td>\n",
       "      <td>0</td>\n",
       "      <td>1</td>\n",
       "      <td>0</td>\n",
       "      <td>0</td>\n",
       "      <td>0</td>\n",
       "      <td>3000</td>\n",
       "      <td>3</td>\n",
       "      <td>10</td>\n",
       "      <td>10</td>\n",
       "      <td>8</td>\n",
       "    </tr>\n",
       "    <tr>\n",
       "      <th>4</th>\n",
       "      <td>1</td>\n",
       "      <td>5</td>\n",
       "      <td>0</td>\n",
       "      <td>1</td>\n",
       "      <td>0</td>\n",
       "      <td>0</td>\n",
       "      <td>0</td>\n",
       "      <td>3000</td>\n",
       "      <td>3</td>\n",
       "      <td>7</td>\n",
       "      <td>7</td>\n",
       "      <td>10</td>\n",
       "    </tr>\n",
       "  </tbody>\n",
       "</table>\n",
       "</div>"
      ],
      "text/plain": [
       "   run  trsummarize_nbackl  condition  correct  key_press  false_alarm  col7  \\\n",
       "0    1                   1          0        1          0            0     0   \n",
       "1    1                   2          0        1          0            0     0   \n",
       "2    1                   3          0        1          0            0     0   \n",
       "3    1                   4          0        1          0            0     0   \n",
       "4    1                   5          0        1          0            0     0   \n",
       "\n",
       "   milliseconds  col9  col10  col11  col12  \n",
       "0          3000     1     15     15      0  \n",
       "1          3000     2      1      1     15  \n",
       "2          3000     2      8      8      1  \n",
       "3          3000     3     10     10      8  \n",
       "4          3000     3      7      7     10  "
      ]
     },
     "execution_count": 3,
     "metadata": {},
     "output_type": "execute_result"
    }
   ],
   "source": [
    "today = read_nback_results('/Users/olgabotvinnik/Downloads/N-back.data.2022-05-04--20-47.txt')\n",
    "today.head()"
   ]
  },
  {
   "cell_type": "code",
   "execution_count": 4,
   "id": "b2c523df-7b46-49ff-ae6d-b81eccd9f4ec",
   "metadata": {},
   "outputs": [
    {
     "data": {
      "text/html": [
       "<div>\n",
       "<style scoped>\n",
       "    .dataframe tbody tr th:only-of-type {\n",
       "        vertical-align: middle;\n",
       "    }\n",
       "\n",
       "    .dataframe tbody tr th {\n",
       "        vertical-align: top;\n",
       "    }\n",
       "\n",
       "    .dataframe thead th {\n",
       "        text-align: right;\n",
       "    }\n",
       "</style>\n",
       "<table border=\"1\" class=\"dataframe\">\n",
       "  <thead>\n",
       "    <tr style=\"text-align: right;\">\n",
       "      <th>condition</th>\n",
       "      <th>2bk0_mean_ms</th>\n",
       "      <th>2bk0_median_ms</th>\n",
       "      <th>2bk0_min_ms</th>\n",
       "      <th>2bk0_max_ms</th>\n",
       "      <th>2bk0_pct_error</th>\n",
       "      <th>2bk1_mean_ms</th>\n",
       "      <th>2bk1_median_ms</th>\n",
       "      <th>2bk1_min_ms</th>\n",
       "      <th>2bk1_max_ms</th>\n",
       "      <th>2bk1_pct_error</th>\n",
       "    </tr>\n",
       "  </thead>\n",
       "  <tbody>\n",
       "    <tr>\n",
       "      <th>0</th>\n",
       "      <td>3000.0</td>\n",
       "      <td>3000.0</td>\n",
       "      <td>3000.0</td>\n",
       "      <td>3000.0</td>\n",
       "      <td>0.0</td>\n",
       "      <td>481.95</td>\n",
       "      <td>425.0</td>\n",
       "      <td>352.0</td>\n",
       "      <td>944.0</td>\n",
       "      <td>0.0</td>\n",
       "    </tr>\n",
       "  </tbody>\n",
       "</table>\n",
       "</div>"
      ],
      "text/plain": [
       "condition  2bk0_mean_ms  2bk0_median_ms  2bk0_min_ms  2bk0_max_ms  \\\n",
       "0                3000.0          3000.0       3000.0       3000.0   \n",
       "\n",
       "condition  2bk0_pct_error  2bk1_mean_ms  2bk1_median_ms  2bk1_min_ms  \\\n",
       "0                     0.0        481.95           425.0        352.0   \n",
       "\n",
       "condition  2bk1_max_ms  2bk1_pct_error  \n",
       "0                944.0             0.0  "
      ]
     },
     "execution_count": 4,
     "metadata": {},
     "output_type": "execute_result"
    }
   ],
   "source": [
    "today_summary = summarize_nback(today).to_frame().T\n",
    "today_summary"
   ]
  },
  {
   "cell_type": "code",
   "execution_count": 5,
   "id": "c4147cb8-80d0-4e9c-ba0c-567d40a40bd7",
   "metadata": {},
   "outputs": [],
   "source": [
    "today_summary.to_clipboard(index=False)"
   ]
  },
  {
   "cell_type": "code",
   "execution_count": null,
   "id": "0796cb27-19dd-4b22-b3ab-50328e5dab65",
   "metadata": {},
   "outputs": [],
   "source": []
  },
  {
   "cell_type": "code",
   "execution_count": null,
   "id": "9a884c27-da0c-4dc2-add4-6d8badfefaa8",
   "metadata": {},
   "outputs": [],
   "source": []
  },
  {
   "cell_type": "code",
   "execution_count": 2,
   "id": "cc98d3a3-3e5d-471a-bd93-3f5b77498e73",
   "metadata": {},
   "outputs": [
    {
     "name": "stdout",
     "output_type": "stream",
     "text": [
      "==> /Users/olgabotvinnik/Downloads/N-back.datafiles/N-back.data.2021-11-03--06-01.txt <==\n",
      "1 1 0 1 0 0 0 3000 2 8 8 0\n",
      "1 2 0 1 0 0 0 3000 1 6 6 8\n",
      "1 3 0 1 0 0 0 3000 3 12 12 6\n",
      "\n",
      "==> /Users/olgabotvinnik/Downloads/N-back.datafiles/N-back.data.2021-11-03--06-11.txt <==\n",
      "1 1 0 1 0 0 0 3000 2 15 15 0\n",
      "1 2 0 1 0 0 0 3000 1 4 4 15\n",
      "1 3 0 1 0 0 0 3000 3 8 8 4\n",
      "\n",
      "==> /Users/olgabotvinnik/Downloads/N-back.datafiles/N-back.data.2022-03-17--17-13.txt <==\n",
      "1 1 0 1 0 0 0 3000 2 14 14 0\n",
      "1 2 0 1 0 0 0 3000 3 7 7 14\n",
      "1 3 1 0 0 1 0 3000 1 14 14 7\n",
      "\n",
      "==> /Users/olgabotvinnik/Downloads/N-back.datafiles/N-back.data.2022-03-23--18-11.txt <==\n",
      "1 1 0 1 0 0 0 3000 3 14 14 0\n",
      "1 2 0 1 0 0 0 3000 2 6 6 14\n",
      "1 3 0 1 0 0 0 3000 2 7 7 6\n",
      "\n",
      "==> /Users/olgabotvinnik/Downloads/N-back.datafiles/N-back.data.2022-03-29--16-20.txt <==\n",
      "1 1 0 1 0 0 0 3000 2 6 6 0\n",
      "1 2 0 1 0 0 0 3000 1 13 13 6\n",
      "1 3 1 1 1 0 0 418 1 6 6 13\n",
      "\n",
      "==> /Users/olgabotvinnik/Downloads/N-back.datafiles/N-back.data.2022-04-01--20-34.txt <==\n",
      "1 1 0 1 0 0 0 3000 1 10 10 0\n",
      "1 2 0 1 0 0 0 3000 3 12 12 10\n",
      "1 3 0 1 0 0 0 3000 2 12 12 12\n",
      "\n",
      "==> /Users/olgabotvinnik/Downloads/N-back.datafiles/N-back.data.2022-04-05--20-28.txt <==\n",
      "1 1 0 1 0 0 0 3000 2 15 15 0\n",
      "1 2 0 1 0 0 0 3000 3 7 7 15\n",
      "1 3 1 1 1 0 0 325 1 15 15 7\n",
      "\n",
      "==> /Users/olgabotvinnik/Downloads/N-back.datafiles/N-back.data.2022-04-06--21-51.txt <==\n",
      "1 1 0 1 0 0 0 3000 1 3 3 0\n",
      "1 2 0 1 0 0 0 3000 2 15 15 3\n",
      "1 3 0 1 0 0 0 3000 2 9 9 15\n",
      "\n",
      "==> /Users/olgabotvinnik/Downloads/N-back.datafiles/N-back.data.2022-04-08--20-57.txt <==\n",
      "1 1 0 1 0 0 0 3000 1 9 9 0\n",
      "1 2 0 1 0 0 0 3000 1 9 9 9\n",
      "1 3 1 1 1 0 0 317 1 9 9 9\n",
      "\n",
      "==> /Users/olgabotvinnik/Downloads/N-back.datafiles/N-back.data.2022-04-14--20-14.txt <==\n",
      "1 1 0 1 0 0 0 3000 1 8 8 0\n",
      "1 2 0 1 0 0 0 3000 2 8 8 8\n",
      "1 3 1 1 1 0 0 347 1 8 8 8\n",
      "\n",
      "==> /Users/olgabotvinnik/Downloads/N-back.datafiles/N-back.data.2022-04-15--22-30.txt <==\n",
      "1 1 0 1 0 0 0 3000 2 8 8 0\n",
      "1 2 0 1 0 0 0 3000 2 15 15 8\n",
      "1 3 0 1 0 0 0 3000 2 14 14 15\n",
      "\n",
      "==> /Users/olgabotvinnik/Downloads/N-back.datafiles/N-back.data.2022-04-19--19-38.txt <==\n",
      "1 1 0 1 0 0 0 3000 3 11 11 0\n",
      "1 2 0 1 0 0 0 3000 1 3 3 11\n",
      "1 3 1 1 1 0 0 363 1 11 11 3\n"
     ]
    }
   ],
   "source": [
    "! head -n 3 /Users/olgabotvinnik/Downloads/N-back.datafiles/*.txt"
   ]
  },
  {
   "cell_type": "markdown",
   "id": "00c4ac08-4f6e-4c16-b573-f439cfef1862",
   "metadata": {},
   "source": [
    "# Utility functions"
   ]
  },
  {
   "cell_type": "markdown",
   "id": "a42d7a9b-e210-4500-a369-481d3cfdce8f",
   "metadata": {},
   "source": [
    "## `read_nback_results` function"
   ]
  },
  {
   "cell_type": "code",
   "execution_count": 3,
   "id": "703937a8-9614-44eb-8b1a-a0c2c8b8e46b",
   "metadata": {},
   "outputs": [],
   "source": []
  },
  {
   "cell_type": "markdown",
   "id": "a147257d-7268-4730-a034-7737fafd350d",
   "metadata": {
    "tags": []
   },
   "source": [
    "## Process N-back results to get mean, median, min, max of correct responses and error rates"
   ]
  },
  {
   "cell_type": "code",
   "execution_count": 4,
   "id": "229caa0c-7594-4096-b0c6-7dcedf8f24c5",
   "metadata": {},
   "outputs": [
    {
     "name": "stdout",
     "output_type": "stream",
     "text": [
      "Overwriting nback_utils.py\n"
     ]
    }
   ],
   "source": [
    "%%file nback_utils.py\n",
    "\n",
    "import pandas as pd\n",
    "\n",
    "columns = [\n",
    "    # column 1\n",
    "    'run', \n",
    "    \n",
    "    # column 2\n",
    "    'trsummarize_nbackl', \n",
    "    \n",
    "    # column 3\n",
    "    'condition', \n",
    "    \n",
    "    # column 4\n",
    "    'correct', \n",
    "    \n",
    "    # column 5\n",
    "    'key_press',\n",
    "    \n",
    "    # column 6\n",
    "    'false_alarm',\n",
    "\n",
    "    # column 7\n",
    "    'col7',\n",
    "    \n",
    "    # column 8\n",
    "    'milliseconds',\n",
    "\n",
    "    'col9', 'col10', 'col11', 'col12',\n",
    "]\n",
    "\n",
    "col_order = [\n",
    "    # \"date\",\n",
    "    \"2bk0_mean_ms\",\n",
    "    \"2bk0_median_ms\",\n",
    "    \"2bk0_min_ms\",\n",
    "    \"2bk0_max_ms\",\n",
    "    \"2bk0_pct_error\",\n",
    "    \"2bk1_mean_ms\",\n",
    "    \"2bk1_median_ms\",\n",
    "    \"2bk1_min_ms\",\n",
    "    \"2bk1_max_ms\",\n",
    "    \"2bk1_pct_error\",\n",
    "]\n",
    "\n",
    "\n",
    "def read_nback_results(filename, names=columns):\n",
    "    return pd.read_csv(filename, sep='\\s', header=None, names=names)\n",
    "\n",
    "def rename_index(series, prefix, suffix):\n",
    "    return prefix + series.index.astype(str) + suffix\n",
    "\n",
    "\n",
    "def summarize_nback(nback_results, prefix=\"2bk\"):\n",
    "    error_rates = (\n",
    "        1\n",
    "        - nback_results.groupby(\"condition\").correct.sum()\n",
    "        / nback_results.condition.value_counts()\n",
    "    )\n",
    "    error_rates.index = rename_index(error_rates, prefix, \"_pct_error\")\n",
    "\n",
    "    correct = nback_results.query(\"correct == 1\")\n",
    "    mean_ms = correct.groupby([\"condition\"]).milliseconds.mean()\n",
    "    mean_ms.index = rename_index(mean_ms, prefix, \"_mean_ms\")\n",
    "\n",
    "    median_ms = correct.groupby([\"condition\"]).milliseconds.median()\n",
    "    median_ms.index = rename_index(median_ms, prefix, \"_median_ms\")\n",
    "\n",
    "    min_ms = correct.groupby([\"condition\"]).milliseconds.min()\n",
    "    min_ms.index = rename_index(min_ms, prefix, \"_min_ms\")\n",
    "\n",
    "    max_ms = correct.groupby([\"condition\"]).milliseconds.max()\n",
    "    max_ms.index = rename_index(max_ms, prefix, \"_max_ms\")\n",
    "\n",
    "    summary = pd.concat([mean_ms, median_ms, min_ms, max_ms, error_rates])\n",
    "    \n",
    "    # Reorder columns for easy copying into notion\n",
    "    summary = summary[col_order]\n",
    "    return summary"
   ]
  },
  {
   "cell_type": "code",
   "execution_count": 10,
   "id": "7a1e23f5-f8aa-4172-8d3a-b415f9186015",
   "metadata": {},
   "outputs": [
    {
     "name": "stdout",
     "output_type": "stream",
     "text": [
      "N-back.data.2022-04-20--19-35.txt 2022-04-20\n",
      "N-back.data.2022-04-27--20-01.txt 2022-04-27\n"
     ]
    },
    {
     "name": "stderr",
     "output_type": "stream",
     "text": [
      "/Users/olgabotvinnik/opt/anaconda3/lib/python3.9/site-packages/pandas/util/_decorators.py:311: ParserWarning: Falling back to the 'python' engine because the 'c' engine does not support regex separators (separators > 1 char and different from '\\s+' are interpreted as regex); you can avoid this warning by specifying engine='python'.\n",
      "  return func(*args, **kwargs)\n"
     ]
    },
    {
     "data": {
      "text/html": [
       "<div>\n",
       "<style scoped>\n",
       "    .dataframe tbody tr th:only-of-type {\n",
       "        vertical-align: middle;\n",
       "    }\n",
       "\n",
       "    .dataframe tbody tr th {\n",
       "        vertical-align: top;\n",
       "    }\n",
       "\n",
       "    .dataframe thead th {\n",
       "        text-align: right;\n",
       "    }\n",
       "</style>\n",
       "<table border=\"1\" class=\"dataframe\">\n",
       "  <thead>\n",
       "    <tr style=\"text-align: right;\">\n",
       "      <th></th>\n",
       "      <th>2bk0_mean_ms</th>\n",
       "      <th>2bk0_median_ms</th>\n",
       "      <th>2bk0_min_ms</th>\n",
       "      <th>2bk0_max_ms</th>\n",
       "      <th>2bk0_pct_error</th>\n",
       "      <th>2bk1_mean_ms</th>\n",
       "      <th>2bk1_median_ms</th>\n",
       "      <th>2bk1_min_ms</th>\n",
       "      <th>2bk1_max_ms</th>\n",
       "      <th>2bk1_pct_error</th>\n",
       "    </tr>\n",
       "    <tr>\n",
       "      <th>date</th>\n",
       "      <th></th>\n",
       "      <th></th>\n",
       "      <th></th>\n",
       "      <th></th>\n",
       "      <th></th>\n",
       "      <th></th>\n",
       "      <th></th>\n",
       "      <th></th>\n",
       "      <th></th>\n",
       "      <th></th>\n",
       "    </tr>\n",
       "  </thead>\n",
       "  <tbody>\n",
       "    <tr>\n",
       "      <th>2022-04-27</th>\n",
       "      <td>3000.0</td>\n",
       "      <td>3000.0</td>\n",
       "      <td>3000.0</td>\n",
       "      <td>3000.0</td>\n",
       "      <td>0.120000</td>\n",
       "      <td>569.875000</td>\n",
       "      <td>542.0</td>\n",
       "      <td>302.0</td>\n",
       "      <td>1084.0</td>\n",
       "      <td>0.04</td>\n",
       "    </tr>\n",
       "    <tr>\n",
       "      <th>2022-04-20</th>\n",
       "      <td>3000.0</td>\n",
       "      <td>3000.0</td>\n",
       "      <td>3000.0</td>\n",
       "      <td>3000.0</td>\n",
       "      <td>0.054545</td>\n",
       "      <td>548.888889</td>\n",
       "      <td>495.5</td>\n",
       "      <td>323.0</td>\n",
       "      <td>1088.0</td>\n",
       "      <td>0.10</td>\n",
       "    </tr>\n",
       "  </tbody>\n",
       "</table>\n",
       "</div>"
      ],
      "text/plain": [
       "            2bk0_mean_ms  2bk0_median_ms  2bk0_min_ms  2bk0_max_ms  \\\n",
       "date                                                                 \n",
       "2022-04-27        3000.0          3000.0       3000.0       3000.0   \n",
       "2022-04-20        3000.0          3000.0       3000.0       3000.0   \n",
       "\n",
       "            2bk0_pct_error  2bk1_mean_ms  2bk1_median_ms  2bk1_min_ms  \\\n",
       "date                                                                    \n",
       "2022-04-27        0.120000    569.875000           542.0        302.0   \n",
       "2022-04-20        0.054545    548.888889           495.5        323.0   \n",
       "\n",
       "            2bk1_max_ms  2bk1_pct_error  \n",
       "date                                     \n",
       "2022-04-27       1084.0            0.04  \n",
       "2022-04-20       1088.0            0.10  "
      ]
     },
     "execution_count": 10,
     "metadata": {},
     "output_type": "execute_result"
    }
   ],
   "source": [
    "# converters = {'run': int, 'trial': int, 'condition': int, 'correct': bool, 'false_alarm': bool, 'milliseconds':int}\n",
    "\n",
    "dfs = []\n",
    "\n",
    "col_order = [\n",
    "    \"date\",\n",
    "    \"2bk0_mean_ms\",\n",
    "    \"2bk0_median_ms\",\n",
    "    \"2bk0_min_ms\",\n",
    "    \"2bk0_max_ms\",\n",
    "    \"2bk0_pct_error\",\n",
    "    \"2bk1_mean_ms\",\n",
    "    \"2bk1_median_ms\",\n",
    "    \"2bk1_min_ms\",\n",
    "    \"2bk1_max_ms\",\n",
    "    \"2bk1_pct_error\",\n",
    "]\n",
    "\n",
    "\n",
    "\n",
    "for filename in sorted(glob.glob(\"/Users/olgabotvinnik/Downloads/N-back.data.2022-04-2*.txt\")):\n",
    "    basename = os.path.basename(filename)\n",
    "    date = basename.split(\".\")[-2].split(\"--\")[0]\n",
    "    print(basename, date)\n",
    "    nback_results = read_nback_results(filename)\n",
    "    nback_results.name = None\n",
    "    nback_results.index.name = None\n",
    "    summary = summarize_nback(nback_results)\n",
    "    summary.name = None\n",
    "    summary.index.name = None\n",
    "    df = summary.to_frame().T\n",
    "    df[\"date\"] = pd.to_datetime(date)\n",
    "    dfs.append(df)\n",
    "nback_summaries = pd.concat(dfs, ignore_index=True)\n",
    "nback_summaries = nback_summaries[col_order].sort_values(\"date\", ascending=False).set_index('date')\n",
    "nback_summaries"
   ]
  },
  {
   "cell_type": "code",
   "execution_count": 11,
   "id": "2f6ba141-4dfc-4696-b470-9463ee3777cf",
   "metadata": {},
   "outputs": [],
   "source": [
    "nback_summaries.to_clipboard()"
   ]
  },
  {
   "cell_type": "code",
   "execution_count": 7,
   "id": "397b89d8-39b7-4918-a280-16f630f62168",
   "metadata": {},
   "outputs": [
    {
     "ename": "NameError",
     "evalue": "name 'summary' is not defined",
     "output_type": "error",
     "traceback": [
      "\u001b[0;31m---------------------------------------------------------------------------\u001b[0m",
      "\u001b[0;31mNameError\u001b[0m                                 Traceback (most recent call last)",
      "\u001b[0;32m/var/folders/kr/s_87f1ds775fjsd51r0xzbcm0000gr/T/ipykernel_43922/3358988665.py\u001b[0m in \u001b[0;36m<module>\u001b[0;34m\u001b[0m\n\u001b[0;32m----> 1\u001b[0;31m \u001b[0msummary\u001b[0m\u001b[0;34m\u001b[0m\u001b[0;34m\u001b[0m\u001b[0m\n\u001b[0m",
      "\u001b[0;31mNameError\u001b[0m: name 'summary' is not defined"
     ]
    }
   ],
   "source": [
    "summary"
   ]
  },
  {
   "cell_type": "code",
   "execution_count": 6,
   "id": "bdef52ef-099f-4d0b-9400-fe31f6ddd9ce",
   "metadata": {},
   "outputs": [],
   "source": [
    "nback_summaries.to_clipboard()"
   ]
  },
  {
   "cell_type": "code",
   "execution_count": 7,
   "id": "ea528e1a-7f06-4487-9d49-f84772061845",
   "metadata": {},
   "outputs": [
    {
     "data": {
      "text/plain": [
       "<AxesSubplot:xlabel='date'>"
      ]
     },
     "execution_count": 7,
     "metadata": {},
     "output_type": "execute_result"
    },
    {
     "data": {
      "image/png": "[encoded data removed]",
      "text/plain": [
       "<Figure size 432x288 with 1 Axes>"
      ]
     },
     "metadata": {
      "needs_background": "light"
     },
     "output_type": "display_data"
    }
   ],
   "source": [
    "nback_summaries.plot('date', '2bk1_mean_ms')"
   ]
  },
  {
   "cell_type": "code",
   "execution_count": 8,
   "id": "f893e802-691c-4afe-b1f4-c185b25f94c5",
   "metadata": {},
   "outputs": [
    {
     "data": {
      "text/plain": [
       "Index(['date', '2bk0_mean_ms', '2bk0_median_ms', '2bk0_min_ms', '2bk0_max_ms',\n",
       "       '2bk0_pct_error', '2bk1_mean_ms', '2bk1_median_ms', '2bk1_min_ms',\n",
       "       '2bk1_max_ms', '2bk1_pct_error'],\n",
       "      dtype='object')"
      ]
     },
     "execution_count": 8,
     "metadata": {},
     "output_type": "execute_result"
    }
   ],
   "source": [
    "nback_summaries.columns"
   ]
  },
  {
   "cell_type": "code",
   "execution_count": 9,
   "id": "ce04be38-7196-4bc7-b20d-e22b23b526b8",
   "metadata": {},
   "outputs": [
    {
     "data": {
      "text/plain": [
       "<AxesSubplot:xlabel='date'>"
      ]
     },
     "execution_count": 9,
     "metadata": {},
     "output_type": "execute_result"
    },
    {
     "data": {
      "image/png": "[encoded data removed]",
      "text/plain": [
       "<Figure size 432x288 with 1 Axes>"
      ]
     },
     "metadata": {
      "needs_background": "light"
     },
     "output_type": "display_data"
    }
   ],
   "source": [
    "nback_summaries.plot('date', '2bk1_median_ms')"
   ]
  },
  {
   "cell_type": "code",
   "execution_count": 10,
   "id": "9631b3e9-7253-4a91-9261-1ef47d652823",
   "metadata": {},
   "outputs": [
    {
     "data": {
      "text/plain": [
       "<AxesSubplot:xlabel='date'>"
      ]
     },
     "execution_count": 10,
     "metadata": {},
     "output_type": "execute_result"
    },
    {
     "data": {
      "image/png": "[encoded data removed]",
      "text/plain": [
       "<Figure size 432x288 with 1 Axes>"
      ]
     },
     "metadata": {
      "needs_background": "light"
     },
     "output_type": "display_data"
    }
   ],
   "source": [
    "nback_summaries.plot('date', '2bk1_pct_error')"
   ]
  },
  {
   "cell_type": "code",
   "execution_count": 11,
   "id": "848e85b9-87cc-42a1-b123-921c58f043c1",
   "metadata": {},
   "outputs": [
    {
     "data": {
      "text/plain": [
       "<AxesSubplot:xlabel='date'>"
      ]
     },
     "execution_count": 11,
     "metadata": {},
     "output_type": "execute_result"
    },
    {
     "data": {
      "image/png": "[encoded data removed]",
      "text/plain": [
       "<Figure size 432x288 with 1 Axes>"
      ]
     },
     "metadata": {
      "needs_background": "light"
     },
     "output_type": "display_data"
    }
   ],
   "source": [
    "nback_summaries.plot('date', '2bk0_pct_error')"
   ]
  },
  {
   "cell_type": "markdown",
   "id": "af92dffa-680d-40d6-b44a-c72148875219",
   "metadata": {
    "tags": []
   },
   "source": [
    "# Run today"
   ]
  },
  {
   "cell_type": "code",
   "execution_count": 1,
   "id": "87a8c254-44a6-463b-891b-5dc98c45a75f",
   "metadata": {},
   "outputs": [
    {
     "ename": "NameError",
     "evalue": "name 'read_nback_results' is not defined",
     "output_type": "error",
     "traceback": [
      "\u001b[0;31m---------------------------------------------------------------------------\u001b[0m",
      "\u001b[0;31mNameError\u001b[0m                                 Traceback (most recent call last)",
      "\u001b[0;32m/var/folders/kr/s_87f1ds775fjsd51r0xzbcm0000gr/T/ipykernel_43784/3166992176.py\u001b[0m in \u001b[0;36m<module>\u001b[0;34m\u001b[0m\n\u001b[0;32m----> 1\u001b[0;31m \u001b[0mtoday\u001b[0m \u001b[0;34m=\u001b[0m \u001b[0mread_nback_results\u001b[0m\u001b[0;34m(\u001b[0m\u001b[0;34m'/Users/olgabotvinnik/Downloads/N-back.data.2022-04-27--20-01.txt'\u001b[0m\u001b[0;34m)\u001b[0m\u001b[0;34m\u001b[0m\u001b[0;34m\u001b[0m\u001b[0m\n\u001b[0m\u001b[1;32m      2\u001b[0m \u001b[0mtoday\u001b[0m\u001b[0;34m.\u001b[0m\u001b[0mhead\u001b[0m\u001b[0;34m(\u001b[0m\u001b[0;34m)\u001b[0m\u001b[0;34m\u001b[0m\u001b[0;34m\u001b[0m\u001b[0m\n",
      "\u001b[0;31mNameError\u001b[0m: name 'read_nback_results' is not defined"
     ]
    }
   ],
   "source": [
    "today = read_nback_results('/Users/olgabotvinnik/Downloads/N-back.data.2022-04-27--20-01.txt')\n",
    "today.head()"
   ]
  },
  {
   "cell_type": "code",
   "execution_count": 28,
   "id": "585b829b-1f52-413f-88d8-41e1f0f98af5",
   "metadata": {},
   "outputs": [
    {
     "data": {
      "text/html": [
       "<div>\n",
       "<style scoped>\n",
       "    .dataframe tbody tr th:only-of-type {\n",
       "        vertical-align: middle;\n",
       "    }\n",
       "\n",
       "    .dataframe tbody tr th {\n",
       "        vertical-align: top;\n",
       "    }\n",
       "\n",
       "    .dataframe thead th {\n",
       "        text-align: right;\n",
       "    }\n",
       "</style>\n",
       "<table border=\"1\" class=\"dataframe\">\n",
       "  <thead>\n",
       "    <tr style=\"text-align: right;\">\n",
       "      <th>condition</th>\n",
       "      <th>2bk0_mean_ms</th>\n",
       "      <th>2bk1_mean_ms</th>\n",
       "      <th>2bk0_median_ms</th>\n",
       "      <th>2bk1_median_ms</th>\n",
       "      <th>2bk0_min_ms</th>\n",
       "      <th>2bk1_min_ms</th>\n",
       "      <th>2bk0_max_ms</th>\n",
       "      <th>2bk1_max_ms</th>\n",
       "      <th>2bk0_pct_error</th>\n",
       "      <th>2bk1_pct_error</th>\n",
       "    </tr>\n",
       "  </thead>\n",
       "  <tbody>\n",
       "    <tr>\n",
       "      <th>0</th>\n",
       "      <td>3000.0</td>\n",
       "      <td>548.888889</td>\n",
       "      <td>3000.0</td>\n",
       "      <td>495.5</td>\n",
       "      <td>3000.0</td>\n",
       "      <td>323.0</td>\n",
       "      <td>3000.0</td>\n",
       "      <td>1088.0</td>\n",
       "      <td>0.054545</td>\n",
       "      <td>0.1</td>\n",
       "    </tr>\n",
       "  </tbody>\n",
       "</table>\n",
       "</div>"
      ],
      "text/plain": [
       "condition  2bk0_mean_ms  2bk1_mean_ms  2bk0_median_ms  2bk1_median_ms  \\\n",
       "0                3000.0    548.888889          3000.0           495.5   \n",
       "\n",
       "condition  2bk0_min_ms  2bk1_min_ms  2bk0_max_ms  2bk1_max_ms  2bk0_pct_error  \\\n",
       "0               3000.0        323.0       3000.0       1088.0        0.054545   \n",
       "\n",
       "condition  2bk1_pct_error  \n",
       "0                     0.1  "
      ]
     },
     "execution_count": 28,
     "metadata": {},
     "output_type": "execute_result"
    }
   ],
   "source": [
    "today_summary = summarize_nback(today).to_frame().T\n",
    "today_summary"
   ]
  },
  {
   "cell_type": "code",
   "execution_count": 21,
   "id": "3b369b17-bf79-46ed-9498-a9059c4b983f",
   "metadata": {},
   "outputs": [
    {
     "data": {
      "text/plain": [
       "condition\n",
       "2bk0_mean_ms      3000.000000\n",
       "2bk1_mean_ms       548.888889\n",
       "2bk0_median_ms    3000.000000\n",
       "2bk1_median_ms     495.500000\n",
       "2bk0_min_ms       3000.000000\n",
       "2bk1_min_ms        323.000000\n",
       "2bk0_max_ms       3000.000000\n",
       "2bk1_max_ms       1088.000000\n",
       "2bk0_pct_error       0.054545\n",
       "2bk1_pct_error       0.100000\n",
       "Name: 0, dtype: float64"
      ]
     },
     "execution_count": 21,
     "metadata": {},
     "output_type": "execute_result"
    }
   ],
   "source": [
    "today_summary.iloc[0]"
   ]
  },
  {
   "cell_type": "code",
   "execution_count": 24,
   "id": "694f6ec6-4261-4499-9e99-7261e81552c5",
   "metadata": {},
   "outputs": [],
   "source": [
    "today_summary.iloc[0].to_clipboard(index=False, name=False)"
   ]
  },
  {
   "cell_type": "code",
   "execution_count": 16,
   "id": "fc00746f-7209-483d-94e1-a934c0ac1c0e",
   "metadata": {},
   "outputs": [
    {
     "data": {
      "text/plain": [
       "4.761904761904762"
      ]
     },
     "execution_count": 16,
     "metadata": {},
     "output_type": "execute_result"
    }
   ],
   "source": [
    "condition1 = today.query('condition == 1')\n",
    "100 * condition1.false_alarm.sum()/len(condition1)"
   ]
  },
  {
   "cell_type": "code",
   "execution_count": 24,
   "id": "7f28a728-ed78-4f47-9863-38361048c81e",
   "metadata": {},
   "outputs": [
    {
     "data": {
      "text/plain": [
       "condition\n",
       "0    0.000000\n",
       "1    4.761905\n",
       "dtype: float64"
      ]
     },
     "execution_count": 24,
     "metadata": {},
     "output_type": "execute_result"
    }
   ],
   "source": [
    "error_rates = today.groupby(\"condition\").apply(\n",
    "    lambda x: 100 * x.false_alarm.sum() / len(x)\n",
    ")\n",
    "error_rates"
   ]
  },
  {
   "cell_type": "code",
   "execution_count": null,
   "id": "fee2a8fb-b3b0-4b8e-bfa4-0b3bb7963104",
   "metadata": {},
   "outputs": [],
   "source": [
    "correct = today.query('correct == 1')"
   ]
  },
  {
   "cell_type": "code",
   "execution_count": 26,
   "id": "ce78eaba-32b8-43fe-9a0e-b31662dcfde1",
   "metadata": {
    "tags": []
   },
   "outputs": [
    {
     "data": {
      "text/plain": [
       "condition\n",
       "0    3000.00\n",
       "1     537.75\n",
       "Name: milliseconds, dtype: float64"
      ]
     },
     "execution_count": 26,
     "metadata": {},
     "output_type": "execute_result"
    }
   ],
   "source": [
    "correct.groupby(['condition']).milliseconds.mean()"
   ]
  },
  {
   "cell_type": "code",
   "execution_count": 27,
   "id": "da25d616-5884-4fc5-9793-7bdba8b15d63",
   "metadata": {},
   "outputs": [
    {
     "data": {
      "text/plain": [
       "condition\n",
       "0    3000.0\n",
       "1     503.0\n",
       "Name: milliseconds, dtype: float64"
      ]
     },
     "execution_count": 27,
     "metadata": {},
     "output_type": "execute_result"
    }
   ],
   "source": [
    "correct.groupby(['condition',]).milliseconds.median()"
   ]
  },
  {
   "cell_type": "code",
   "execution_count": 28,
   "id": "fe62bdc9-fb18-48cd-b89e-2881d6f5cbfe",
   "metadata": {},
   "outputs": [
    {
     "data": {
      "text/plain": [
       "condition\n",
       "0    3000\n",
       "1     337\n",
       "Name: milliseconds, dtype: int64"
      ]
     },
     "execution_count": 28,
     "metadata": {},
     "output_type": "execute_result"
    }
   ],
   "source": [
    "correct.groupby(['condition']).milliseconds.min()"
   ]
  },
  {
   "cell_type": "code",
   "execution_count": 29,
   "id": "43b8053a-a6b7-4c45-821f-61a91e4c4485",
   "metadata": {},
   "outputs": [
    {
     "data": {
      "text/plain": [
       "condition\n",
       "0    3000\n",
       "1    1034\n",
       "Name: milliseconds, dtype: int64"
      ]
     },
     "execution_count": 29,
     "metadata": {},
     "output_type": "execute_result"
    }
   ],
   "source": [
    "correct.groupby(['condition']).milliseconds.max()"
   ]
  },
  {
   "cell_type": "markdown",
   "id": "015e8688-dddb-4996-a1a7-5eb4abee8ede",
   "metadata": {},
   "source": [
    "# Test Apr1 where error rate should be 8.16%"
   ]
  },
  {
   "cell_type": "code",
   "execution_count": 74,
   "id": "f1b71d9a-db10-4e34-8796-94696d459953",
   "metadata": {},
   "outputs": [
    {
     "name": "stderr",
     "output_type": "stream",
     "text": [
      "/Users/olgabotvinnik/opt/anaconda3/lib/python3.9/site-packages/pandas/util/_decorators.py:311: ParserWarning: Falling back to the 'python' engine because the 'c' engine does not support regex separators (separators > 1 char and different from '\\s+' are interpreted as regex); you can avoid this warning by specifying engine='python'.\n",
      "  return func(*args, **kwargs)\n"
     ]
    }
   ],
   "source": [
    "apr1 = read_nback_results(\n",
    "    \"/Users/olgabotvinnik/Downloads/N-back.datafiles/N-back.data.2022-04-01--20-34.txt\"\n",
    ")"
   ]
  },
  {
   "cell_type": "code",
   "execution_count": 78,
   "id": "4aee012f-e073-4a6e-978d-3a3c9f500401",
   "metadata": {},
   "outputs": [
    {
     "data": {
      "text/plain": [
       "0    49\n",
       "1    26\n",
       "Name: condition, dtype: int64"
      ]
     },
     "execution_count": 78,
     "metadata": {},
     "output_type": "execute_result"
    }
   ],
   "source": [
    "apr1.condition.value_counts()"
   ]
  },
  {
   "cell_type": "code",
   "execution_count": 76,
   "id": "074696d1-c3b4-4810-8593-c180dc8c2586",
   "metadata": {},
   "outputs": [
    {
     "data": {
      "text/plain": [
       "condition\n",
       "0    45\n",
       "1    26\n",
       "Name: correct, dtype: int64"
      ]
     },
     "execution_count": 76,
     "metadata": {},
     "output_type": "execute_result"
    }
   ],
   "source": [
    "apr1.groupby('condition').correct.sum()"
   ]
  },
  {
   "cell_type": "code",
   "execution_count": 81,
   "id": "51b06098-a0cb-49a5-95ad-42a58b99c979",
   "metadata": {},
   "outputs": [
    {
     "data": {
      "text/plain": [
       "condition\n",
       "0    8.163265\n",
       "1    0.000000\n",
       "dtype: float64"
      ]
     },
     "execution_count": 81,
     "metadata": {},
     "output_type": "execute_result"
    }
   ],
   "source": [
    "100 * (1-apr1.groupby('condition').correct.sum()/apr1.condition.value_counts())"
   ]
  },
  {
   "cell_type": "code",
   "execution_count": 76,
   "id": "677af060-0db3-4eec-8dc3-640a47ce090f",
   "metadata": {},
   "outputs": [
    {
     "data": {
      "text/plain": [
       "condition\n",
       "0    45\n",
       "1    26\n",
       "Name: correct, dtype: int64"
      ]
     },
     "execution_count": 76,
     "metadata": {},
     "output_type": "execute_result"
    }
   ],
   "source": [
    "apr1.groupby('condition').correct.sum()"
   ]
  },
  {
   "cell_type": "code",
   "execution_count": 77,
   "id": "8a76c5b5-b986-41ed-8513-b5ad1d590300",
   "metadata": {},
   "outputs": [
    {
     "data": {
      "text/plain": [
       "condition\n",
       "0    0\n",
       "1    0\n",
       "Name: false_alarm, dtype: int64"
      ]
     },
     "execution_count": 77,
     "metadata": {},
     "output_type": "execute_result"
    }
   ],
   "source": [
    "apr1.groupby('condition').false_alarm.sum()"
   ]
  },
  {
   "cell_type": "code",
   "execution_count": null,
   "id": "63f9ef3d-13dc-4677-9ede-d03dfe7d1f24",
   "metadata": {},
   "outputs": [],
   "source": []
  }
 ],
 "metadata": {
  "kernelspec": {
   "display_name": "Python 3 (ipykernel)",
   "language": "python",
   "name": "python3"
  },
  "language_info": {
   "codemirror_mode": {
    "name": "ipython",
    "version": 3
   },
   "file_extension": ".py",
   "mimetype": "text/x-python",
   "name": "python",
   "nbconvert_exporter": "python",
   "pygments_lexer": "ipython3",
   "version": "3.9.7"
  }
 },
 "nbformat": 4,
 "nbformat_minor": 5
}
